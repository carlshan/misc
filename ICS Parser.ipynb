{
 "cells": [
  {
   "cell_type": "markdown",
   "metadata": {},
   "source": [
    "### Description\n",
    "\n",
    "The below code takes the Nueva conslidated calendar and breaks it up into 12 downloadable .ics files."
   ]
  },
  {
   "cell_type": "markdown",
   "metadata": {},
   "source": [
    "**Step 1: Importing the relevant tools we'll use**"
   ]
  },
  {
   "cell_type": "code",
   "execution_count": 1,
   "metadata": {},
   "outputs": [],
   "source": [
    "import ics\n",
    "from ics import Calendar\n",
    "from urllib.request import urlopen"
   ]
  },
  {
   "cell_type": "markdown",
   "metadata": {},
   "source": [
    "**Step 2: Getting the consolidated calendar**"
   ]
  },
  {
   "cell_type": "code",
   "execution_count": 4,
   "metadata": {},
   "outputs": [],
   "source": [
    "url = \"LONG URL HERE\"\n",
    "\n",
    "## I've removed our actual calendar so that others don't have public access to it"
   ]
  },
  {
   "cell_type": "code",
   "execution_count": 5,
   "metadata": {},
   "outputs": [],
   "source": [
    "c = Calendar(urlopen(url).read().decode('iso-8859-1'))"
   ]
  },
  {
   "cell_type": "markdown",
   "metadata": {},
   "source": [
    "Great, it looks like this has everything we need. We just need to break it up into separate blocks and events."
   ]
  },
  {
   "cell_type": "markdown",
   "metadata": {},
   "source": [
    "**Step 3: Getting each block**\n",
    "\n",
    "The below code slices the conslidated calendar so that we get separate blocks."
   ]
  },
  {
   "cell_type": "code",
   "execution_count": 32,
   "metadata": {},
   "outputs": [],
   "source": [
    "block1 = [event for event in c.events if 'Block 1' in event.name]\n",
    "block2 = [event for event in c.events if 'Block 2' in event.name]\n",
    "block3 = [event for event in c.events if 'Block 3' in event.name]\n",
    "block4 = [event for event in c.events if 'Block 4' in event.name]\n",
    "block5 = [event for event in c.events if 'Block 5' in event.name]\n",
    "block6 = [event for event in c.events if 'Block 6' in event.name]\n",
    "block7 = [event for event in c.events if 'Block 7' in event.name]\n",
    "block8 = [event for event in c.events if 'Block 8' in event.name]"
   ]
  },
  {
   "cell_type": "markdown",
   "metadata": {},
   "source": [
    "**Step 4: Let's make a separate .ics calendar file for each block**"
   ]
  },
  {
   "cell_type": "code",
   "execution_count": 40,
   "metadata": {},
   "outputs": [],
   "source": [
    "blocks = [block1, block2, block3, block4, block5, block6, block7, block8]"
   ]
  },
  {
   "cell_type": "markdown",
   "metadata": {},
   "source": [
    "The below code loops over the 8 blocks and makes a separate `.ics` file for each one that will be saved to the same folder that this code is in."
   ]
  },
  {
   "cell_type": "code",
   "execution_count": 44,
   "metadata": {},
   "outputs": [],
   "source": [
    "for block_num, events in enumerate(blocks):\n",
    "    calendar = Calendar()\n",
    "    calendar.events = events\n",
    "    with open('block' + str(block_num + 1) + '.ics', 'w') as outfile:\n",
    "        outfile.writelines(calendar)"
   ]
  },
  {
   "cell_type": "markdown",
   "metadata": {},
   "source": [
    "### Now let's make calendars for each of the other activities"
   ]
  },
  {
   "cell_type": "markdown",
   "metadata": {},
   "source": [
    "### Advisory"
   ]
  },
  {
   "cell_type": "code",
   "execution_count": null,
   "metadata": {},
   "outputs": [],
   "source": [
    "advisory = [event for event in c.events if 'Advisory' in event.name and 'College' not in event.name]"
   ]
  },
  {
   "cell_type": "code",
   "execution_count": 43,
   "metadata": {},
   "outputs": [],
   "source": [
    "calendar = Calendar()\n",
    "calendar.events = advisory\n",
    "with open('advisory.ics', 'w') as outfile:\n",
    "    outfile.writelines(calendar)"
   ]
  },
  {
   "cell_type": "markdown",
   "metadata": {},
   "source": [
    "### Lunch"
   ]
  },
  {
   "cell_type": "code",
   "execution_count": null,
   "metadata": {},
   "outputs": [],
   "source": [
    "lunch = [event for event in c.events if 'Lunch' in event.name]"
   ]
  },
  {
   "cell_type": "code",
   "execution_count": 45,
   "metadata": {},
   "outputs": [],
   "source": [
    "calendar = Calendar()\n",
    "calendar.events = lunch\n",
    "with open('lunch.ics', 'w') as outfile:\n",
    "    outfile.writelines(calendar)"
   ]
  },
  {
   "cell_type": "markdown",
   "metadata": {},
   "source": [
    "### Tutorial"
   ]
  },
  {
   "cell_type": "code",
   "execution_count": null,
   "metadata": {},
   "outputs": [],
   "source": [
    "tutorial = [event for event in c.events if 'Tutorial' in event.name]"
   ]
  },
  {
   "cell_type": "code",
   "execution_count": 47,
   "metadata": {},
   "outputs": [],
   "source": [
    "calendar = Calendar()\n",
    "calendar.events = tutorial\n",
    "with open('tutorial.ics', 'w') as outfile:\n",
    "    outfile.writelines(calendar)"
   ]
  },
  {
   "cell_type": "markdown",
   "metadata": {},
   "source": [
    "### Others"
   ]
  },
  {
   "cell_type": "code",
   "execution_count": null,
   "metadata": {},
   "outputs": [],
   "source": [
    "list_of_events = ['Block 1', 'Block 2', 'Block 3', 'Block 4', 'Block 5', 'Block 6', 'Block 7', 'Block 8', 'Advisory', 'Lunch', 'Tutorial']\n",
    "others = [event for event in c.events if event.name not in list_of_events]"
   ]
  },
  {
   "cell_type": "code",
   "execution_count": 48,
   "metadata": {},
   "outputs": [],
   "source": [
    "calendar = Calendar()\n",
    "calendar.events = others\n",
    "with open('others.ics', 'w') as outfile:\n",
    "    outfile.writelines(calendar)"
   ]
  }
 ],
 "metadata": {
  "kernelspec": {
   "display_name": "Python 3",
   "language": "python",
   "name": "python3"
  },
  "language_info": {
   "codemirror_mode": {
    "name": "ipython",
    "version": 3
   },
   "file_extension": ".py",
   "mimetype": "text/x-python",
   "name": "python",
   "nbconvert_exporter": "python",
   "pygments_lexer": "ipython3",
   "version": "3.5.2"
  }
 },
 "nbformat": 4,
 "nbformat_minor": 2
}
